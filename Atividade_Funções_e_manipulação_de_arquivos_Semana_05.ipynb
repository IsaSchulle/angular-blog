{
  "nbformat": 4,
  "nbformat_minor": 0,
  "metadata": {
    "colab": {
      "provenance": [],
      "collapsed_sections": [
        "suLU217H9G51"
      ],
      "include_colab_link": true
    },
    "kernelspec": {
      "name": "python3",
      "display_name": "Python 3"
    },
    "language_info": {
      "name": "python"
    }
  },
  "cells": [
    {
      "cell_type": "markdown",
      "metadata": {
        "id": "view-in-github",
        "colab_type": "text"
      },
      "source": [
        "<a href=\"https://colab.research.google.com/github/IsaSchulle/angular-blog/blob/main/Atividade_Fun%C3%A7%C3%B5es_e_manipula%C3%A7%C3%A3o_de_arquivos_Semana_05.ipynb\" target=\"_parent\"><img src=\"https://colab.research.google.com/assets/colab-badge.svg\" alt=\"Open In Colab\"/></a>"
      ]
    },
    {
      "cell_type": "markdown",
      "source": [
        "![Growdev](https://www.growdev.com.br/assets/images/logo_growdev.png)"
      ],
      "metadata": {
        "id": "v8pFWwviib2C"
      }
    },
    {
      "cell_type": "markdown",
      "source": [
        "![Formação Engenharia de Dados](https://d335luupugsy2.cloudfront.net/cms/files/524558/1707226566/$occu5m8t1op)"
      ],
      "metadata": {
        "id": "6Tkl4_HxifXZ"
      }
    },
    {
      "cell_type": "markdown",
      "source": [
        "Este material tem como objetivo incentivar a prática dos conteúdos estudados até o momento, e a pesquisa. Tenha em consideração que o exercício foi pensado para incentivar a prática dos conteúdos estudados até então, porém aprender a pesquisar faz parte do processo de aprendizagem.\n",
        "\n",
        "Fique tranquilo, faça os exercícios com calma, e boa prática!\n"
      ],
      "metadata": {
        "id": "ty7Bzyl1i9bN"
      }
    },
    {
      "cell_type": "markdown",
      "source": [
        "#Orientações:\n",
        "\n",
        " - Faça uma copia deste arquivo\n",
        " - Após concluir os exercicios, suba seu exercicio para o GitHub e compartilhe o link no **google** Classroom\n"
      ],
      "metadata": {
        "id": "DU5-yCQwjx3V"
      }
    },
    {
      "cell_type": "markdown",
      "source": [
        "#Exercícios"
      ],
      "metadata": {
        "id": "EzT810tnlmfE"
      }
    },
    {
      "cell_type": "markdown",
      "source": [
        "#Funções"
      ],
      "metadata": {
        "id": "rDqBAimhSq_C"
      }
    },
    {
      "cell_type": "markdown",
      "source": [
        "Escreva uma função chamada soma que recebe dois números como parâmetros e retorna a soma deles"
      ],
      "metadata": {
        "id": "AkBqdNST8bCY"
      }
    },
    {
      "cell_type": "code",
      "source": [
        "def soma(num1, num2):\n",
        "    return num1 + num2\n",
        "\n",
        "resultado = soma(5, 3)\n",
        "print(resultado)"
      ],
      "metadata": {
        "id": "J427Pi2p8THC",
        "colab": {
          "base_uri": "https://localhost:8080/"
        },
        "outputId": "b30c923c-b3bc-4657-d1d1-5568cd3f81e8"
      },
      "execution_count": 2,
      "outputs": [
        {
          "output_type": "stream",
          "name": "stdout",
          "text": [
            "8\n"
          ]
        }
      ]
    },
    {
      "cell_type": "markdown",
      "source": [
        "Escreva uma função chamada verificar_paridade que recebe um número como parâmetro e retorna True se for par e False se for ímpar."
      ],
      "metadata": {
        "id": "NAa3MBAM830W"
      }
    },
    {
      "cell_type": "code",
      "source": [
        "def verificar_paridade(numero):\n",
        "    if numero % 2 == 0:\n",
        "        return True\n",
        "    else:\n",
        "        return False\n",
        "\n",
        "print(verificar_paridade(5))\n",
        "print(verificar_paridade(4))\n"
      ],
      "metadata": {
        "id": "CRlV5NE82kpE",
        "colab": {
          "base_uri": "https://localhost:8080/"
        },
        "outputId": "631ed7e9-f3f9-40e8-f751-6301653bd97f"
      },
      "execution_count": 3,
      "outputs": [
        {
          "output_type": "stream",
          "name": "stdout",
          "text": [
            "False\n",
            "True\n"
          ]
        }
      ]
    },
    {
      "cell_type": "markdown",
      "source": [
        "Escreva uma função chamada verificar_palindromo que recebe uma string como parâmetro e retorna True se for um palíndromo (uma palavra que é igual se lida da esquerda para a direita e vice-versa) e False caso contrário."
      ],
      "metadata": {
        "id": "S7Rh1p4N8_dp"
      }
    },
    {
      "cell_type": "code",
      "source": [
        "def verificar_palindromo(string):\n",
        "    string = string.replace(\" \", \"\").lower()\n",
        "    return string == string[::-1]\n",
        "\n",
        "print(verificar_palindromo(\"ovo\"))\n",
        "print(verificar_palindromo(\"python\"))"
      ],
      "metadata": {
        "id": "jY3rGEWc9Gb5"
      },
      "execution_count": null,
      "outputs": []
    },
    {
      "cell_type": "markdown",
      "source": [
        "##Desafio listas e funções:"
      ],
      "metadata": {
        "id": "suLU217H9G51"
      }
    },
    {
      "cell_type": "markdown",
      "source": [
        "Crie uma função que representa o jogo batalha naval.\n",
        "\n",
        "Dentro da função crie uma estrutura bidimensional utilizando listas com sublistas para representar um tabuleiro (1 lista com 20 elementos e cada elemento é uma lista de 20 elementos, tabuleiro 20x20). Cada posição irá armazenar 1 valor numérico que significa:\n",
        "- 0 - Água\n",
        "- 1 - Navio\n",
        "\n",
        "Para cada posição escolha esses valores aleatoriamente, respeitando a regra de que não podem existir mais de 20 navios no tabuleiro.\n",
        "\n",
        "Após os valores serem distribuídos, o programa deve pedir ao usuário uma posição do tabuleiro e informar se ele acertou um navio ou água e repetir o procedimento até que o usuário derrote todos os navios ou chegue ao limite de 35 tentativas.\n",
        "\n"
      ],
      "metadata": {
        "id": "zv3Edx_T-TF5"
      }
    },
    {
      "cell_type": "code",
      "source": [],
      "metadata": {
        "id": "BhHWwg54-H1j"
      },
      "execution_count": null,
      "outputs": []
    },
    {
      "cell_type": "markdown",
      "source": [
        "Modifique o programa anterior para exibir as seguintes estatísticas.\n",
        "- Acertos em água\n",
        "- Acertos em Navios\n",
        "- Porcentagem de acertos em água\n",
        "- Porcentagem de acertos em Navios\n",
        "- Acertos ininterruptos (maior quantidade de acertos em sequência)"
      ],
      "metadata": {
        "id": "WUXJN6Dg_GET"
      }
    },
    {
      "cell_type": "code",
      "source": [],
      "metadata": {
        "id": "N5itlDvd_Hbi"
      },
      "execution_count": null,
      "outputs": []
    },
    {
      "cell_type": "markdown",
      "source": [
        "#Manipulação de arquivos: Conteudo será trabalhado na aula do"
      ],
      "metadata": {
        "id": "ffEKF4Kx5eQu"
      }
    },
    {
      "cell_type": "markdown",
      "source": [
        "UUtilize o arquivo ‘compras.csv’ como base para resolver os seguintes exercícios.  disponivel em: https://drive.google.com/file/d/1cqqr7kWuBYYJxJ8W_-KHmcZHs6sfV_is/view"
      ],
      "metadata": {
        "id": "IrQvRhQM5oj6"
      }
    },
    {
      "cell_type": "markdown",
      "source": [
        "Utilize as seguintes faixas etárias nos exercícios em que for necessário.\n",
        "- Jovens, 18 a 25 anos\n",
        "- Adultos, 26 a 59 anos\n",
        "- Idosos, igual ou maior que 60 anos\n"
      ],
      "metadata": {
        "id": "J8g6sYrl3Xjg"
      }
    },
    {
      "cell_type": "markdown",
      "source": [
        "Procure quem foi a pessoa que mais gastou?"
      ],
      "metadata": {
        "id": "apGpARF-3nW9"
      }
    },
    {
      "cell_type": "code",
      "source": [],
      "metadata": {
        "id": "EPX_3cU33XOh"
      },
      "execution_count": null,
      "outputs": []
    },
    {
      "cell_type": "markdown",
      "source": [
        "Busque quais são os anos da base de dados?"
      ],
      "metadata": {
        "id": "3PBqAffp3o9I"
      }
    },
    {
      "cell_type": "code",
      "source": [],
      "metadata": {
        "id": "lqgX2B6x5fLc"
      },
      "execution_count": null,
      "outputs": []
    },
    {
      "cell_type": "markdown",
      "source": [
        "Qual a porcentagem de homens e mulheres na base de dados?"
      ],
      "metadata": {
        "id": "R2DKj08Z5tqJ"
      }
    },
    {
      "cell_type": "code",
      "source": [],
      "metadata": {
        "id": "3wZDjRn03xB0"
      },
      "execution_count": null,
      "outputs": []
    },
    {
      "cell_type": "markdown",
      "source": [
        "Qual foi o gasto por ano?"
      ],
      "metadata": {
        "id": "Nou_jojr3ztM"
      }
    },
    {
      "cell_type": "code",
      "source": [],
      "metadata": {
        "id": "hjBuBCDb30YI"
      },
      "execution_count": null,
      "outputs": []
    },
    {
      "cell_type": "markdown",
      "source": [
        "Qual foi o ano com maior gasto?"
      ],
      "metadata": {
        "id": "vgN3teMQ32pg"
      }
    },
    {
      "cell_type": "code",
      "source": [],
      "metadata": {
        "id": "JmN_ZHBV35ss"
      },
      "execution_count": null,
      "outputs": []
    },
    {
      "cell_type": "markdown",
      "source": [
        "Utilizando as faixas etárias, diga quantas pessoas há em cada faixa?"
      ],
      "metadata": {
        "id": "V_y9EX0p34-E"
      }
    },
    {
      "cell_type": "code",
      "source": [],
      "metadata": {
        "id": "ukkjPSE738r8"
      },
      "execution_count": null,
      "outputs": []
    },
    {
      "cell_type": "markdown",
      "source": [
        "Qual é a faixa etária que mais gasta?"
      ],
      "metadata": {
        "id": "_7qmp-1y36Ac"
      }
    },
    {
      "cell_type": "code",
      "source": [],
      "metadata": {
        "id": "O0_Wt4I838V0"
      },
      "execution_count": null,
      "outputs": []
    },
    {
      "cell_type": "markdown",
      "source": [
        "A opção de débito é mais utilizada entre homens ou mulheres?"
      ],
      "metadata": {
        "id": "L_EUiizw3-jM"
      }
    },
    {
      "cell_type": "code",
      "source": [],
      "metadata": {
        "id": "dIKB7PXj3_DE"
      },
      "execution_count": null,
      "outputs": []
    },
    {
      "cell_type": "markdown",
      "source": [
        "Qual o sobrenome que mais aparece na base de dados?"
      ],
      "metadata": {
        "id": "jOMpl3Th4Bkm"
      }
    },
    {
      "cell_type": "code",
      "source": [],
      "metadata": {
        "id": "LDFe_62s4B_Q"
      },
      "execution_count": null,
      "outputs": []
    },
    {
      "cell_type": "markdown",
      "source": [
        "Qual foi o ano em que os homens mais usaram o crédito?"
      ],
      "metadata": {
        "id": "Q7VS9K_Q4ECM"
      }
    },
    {
      "cell_type": "code",
      "source": [],
      "metadata": {
        "id": "5H60b3n64Ee0"
      },
      "execution_count": null,
      "outputs": []
    },
    {
      "cell_type": "markdown",
      "source": [
        "Qual opção de pagamento é mais utilizada em cada faixa etária?"
      ],
      "metadata": {
        "id": "ebnmp5KD4GPw"
      }
    },
    {
      "cell_type": "code",
      "source": [],
      "metadata": {
        "id": "NumXkC5p4H7s"
      },
      "execution_count": null,
      "outputs": []
    },
    {
      "cell_type": "markdown",
      "source": [
        "Qual o valor gasto em compras por jovens do ano de 2010 até 2015?"
      ],
      "metadata": {
        "id": "jRKhI6Dv4IQJ"
      }
    },
    {
      "cell_type": "code",
      "source": [],
      "metadata": {
        "id": "6SXstcF54Itk"
      },
      "execution_count": null,
      "outputs": []
    }
  ]
}